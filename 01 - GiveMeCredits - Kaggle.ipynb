{
 "cells": [
  {
   "cell_type": "code",
   "execution_count": null,
   "metadata": {},
   "outputs": [],
   "source": [
    "# Import des libraries\n",
    "\n",
    "from bigml.api import BigML\n",
    "import pandas\n",
    "from pandas import read_csv\n",
    "import matplotlib"
   ]
  },
  {
   "cell_type": "code",
   "execution_count": null,
   "metadata": {},
   "outputs": [],
   "source": [
    "# Modification du fichier Train de Kaggle\n",
    "\n",
    "df = read_csv('https://oml-data.s3.amazonaws.com/kaggle-give-me-credit-train.csv', index_col=0)\n",
    "df = df.fillna(0)\n",
    "df['MonthlyPerPerson'] = df['MonthlyIncome'] / ( df['NumberOfDependents'] + 1 )\n",
    "df.loc[df.age > 80, 'isOld'] = '1' \n",
    "df.loc[df.age <= 80, 'isOld'] = '0' \n",
    "df.to_csv('train_full.csv')"
   ]
  },
  {
   "cell_type": "code",
   "execution_count": null,
   "metadata": {},
   "outputs": [],
   "source": [
    "# Modification du fichier Test de Kaggle\n",
    "\n",
    "df = read_csv('https://oml-data.s3.amazonaws.com/kaggle-give-me-credit-test.csv', index_col=0)\n",
    "df = df.fillna(0)\n",
    "df['MonthlyPerPerson'] = df['MonthlyIncome'] / ( df['NumberOfDependents'] + 1 )\n",
    "df.loc[df.age > 80, 'isOld'] = '1' \n",
    "df.loc[df.age <= 80, 'isOld'] = '0' \n",
    "df.to_csv('test_full.csv')"
   ]
  },
  {
   "cell_type": "code",
   "execution_count": null,
   "metadata": {},
   "outputs": [],
   "source": [
    "# Connexion au projet via l'API de BIG ML\n",
    "\n",
    "api = BigML('MAXIMEFAVOT', '69757fb108f0bd7a8678e0b66e3de66ae6478c81', project='project/5d9e081659f5c320e1000597')"
   ]
  },
  {
   "cell_type": "code",
   "execution_count": null,
   "metadata": {},
   "outputs": [],
   "source": [
    "# Creation des sources sur BigML\n",
    "\n",
    "source_train = api.create_source('train_full.csv')\n",
    "trainfull_dataset = api.create_dataset(source_train)\n",
    "\n",
    "source_test = api.create_source('test_full.csv')\n",
    "testfull_dataset = api.create_dataset(source_test)"
   ]
  },
  {
   "cell_type": "code",
   "execution_count": null,
   "metadata": {},
   "outputs": [],
   "source": [
    "# Création du split\n",
    "\n",
    "train_dataset = api.create_dataset(\n",
    "    trainfull_dataset, {\"name\": \"Training_split\", \"sample_rate\": 0.8, \"seed\": \"my seed\"})\n",
    "test_dataset = api.create_dataset(\n",
    "    trainfull_dataset, {\"name\": \"Test_split\", \"sample_rate\": 0.8, \"seed\": \"my seed\", \"out_of_bag\": True})"
   ]
  },
  {
   "cell_type": "code",
   "execution_count": null,
   "metadata": {},
   "outputs": [],
   "source": [
    "# Création du modele Ensemble\n",
    "\n",
    "ensemble = api.create_ensemble(train_dataset, {\"name\": \"ensemble\", \"objective_field\": \"SeriousDlqin2yrs\"})"
   ]
  },
  {
   "cell_type": "code",
   "execution_count": null,
   "metadata": {},
   "outputs": [],
   "source": [
    "# Batch Prediction et Download\n",
    "\n",
    "batch_prediction = api.create_batch_prediction(ensemble, testfull_dataset,{\"all_fields\": True, \"probabilities\": True})"
   ]
  },
  {
   "cell_type": "code",
   "execution_count": null,
   "metadata": {},
   "outputs": [],
   "source": [
    "# Récuperation des evaluations sur l'API\n",
    "\n",
    "evaluation = api.create_evaluation(ensemble, test_dataset)\n",
    "api.ok(evaluation)\n",
    "api.pprint(evaluation['object']['result']['model']['accuracy'])\n",
    "api.pprint(evaluation['object']['result']['model']['average_area_under_roc_curve'])\n",
    "api.pprint(evaluation['object']['result']['model']['confusion_matrix'])"
   ]
  },
  {
   "cell_type": "code",
   "execution_count": null,
   "metadata": {},
   "outputs": [],
   "source": [
    "api.download_batch_prediction(batch_prediction, filename='Prediction_kaggle.csv')"
   ]
  },
  {
   "cell_type": "code",
   "execution_count": null,
   "metadata": {},
   "outputs": [],
   "source": [
    "# Mise en forme pour soumission Kaggle\n",
    "\n",
    "df = read_csv('Prediction_kaggle.csv', index_col=0)\n",
    "df2 = df[['1 probability']]\n",
    "df2.index.names = ['Id'] \n",
    "df2.rename(columns={\"1 probability\": \"Probability\"}, inplace= True)\n",
    "df2.to_csv('Kaggle-submission.csv')"
   ]
  },
  {
   "cell_type": "code",
   "execution_count": null,
   "metadata": {
    "scrolled": true
   },
   "outputs": [],
   "source": [
    "# Soumission Kaggle\n",
    "\n",
    "import kaggle\n",
    "submission_file = \"Kaggle-submission.csv\"\n",
    "kaggle.api.competition_submit(submission_file, \"BigML ensemble\", \"GiveMesomeCredit\")\n",
    "\n"
   ]
  }
 ],
 "metadata": {
  "kernelspec": {
   "display_name": "Python 3",
   "language": "python",
   "name": "python3"
  },
  "language_info": {
   "codemirror_mode": {
    "name": "ipython",
    "version": 3
   },
   "file_extension": ".py",
   "mimetype": "text/x-python",
   "name": "python",
   "nbconvert_exporter": "python",
   "pygments_lexer": "ipython3",
   "version": "3.7.4"
  },
  "toc": {
   "base_numbering": 1,
   "nav_menu": {},
   "number_sections": true,
   "sideBar": true,
   "skip_h1_title": false,
   "title_cell": "Table of Contents",
   "title_sidebar": "Contents",
   "toc_cell": false,
   "toc_position": {},
   "toc_section_display": true,
   "toc_window_display": false
  },
  "widgets": {
   "application/vnd.jupyter.widget-state+json": {
    "state": {},
    "version_major": 2,
    "version_minor": 0
   }
  }
 },
 "nbformat": 4,
 "nbformat_minor": 2
}
